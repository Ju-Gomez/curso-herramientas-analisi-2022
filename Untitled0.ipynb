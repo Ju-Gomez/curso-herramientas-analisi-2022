{
  "cells": [
    {
      "cell_type": "code",
      "execution_count": 8,
      "metadata": {
        "colab": {
          "base_uri": "https://localhost:8080/"
        },
        "id": "MU-Tp_LmfG4K",
        "outputId": "71ef6b4c-9abb-4e3c-b925-38aff948671b"
      },
      "outputs": [
        {
          "name": "stdout",
          "output_type": "stream",
          "text": [
            "<class 'int'>\n",
            "5\n",
            "<class 'str'>\n",
            "bienvenidos a clases\n",
            "<class 'bool'>\n",
            "True\n",
            "4\n",
            "3\n",
            "False\n"
          ]
        }
      ],
      "source": [
        "# Trabajando con numeros\n",
        "numero = 5\n",
        "print(type(numero))\n",
        "print (numero)\n",
        "\n",
        "# trabajando con texto\n",
        "texto = \"bienvenidos a clases\"\n",
        "print(type(texto))\n",
        "print (texto)\n",
        "\n",
        "#trabajando con bolear\n",
        "bolear = True or False\n",
        "print(type(bolear))\n",
        "print(bolear)\n",
        "\n",
        "# calculando el mod\n",
        "modulo= 19%5\n",
        "print (modulo)\n",
        "\n",
        "# calculando una division entera \n",
        "division_entera = 19 // 5\n",
        "print (division_entera)\n",
        " \n",
        "# operadores logicos\n",
        "\n",
        "# mayor igual que \n",
        "mayor_igual_que = 267 >= 487\n",
        "print(mayor_igual_que)"
      ]
    },
    {
      "cell_type": "code",
      "execution_count": 22,
      "metadata": {
        "id": "uTuQEepynmJX"
      },
      "outputs": [],
      "source": [
        "lista_vacia = []"
      ]
    },
    {
      "cell_type": "code",
      "execution_count": null,
      "metadata": {
        "id": "FfmDnewuoXbx"
      },
      "outputs": [],
      "source": []
    },
    {
      "cell_type": "code",
      "execution_count": 25,
      "metadata": {
        "colab": {
          "base_uri": "https://localhost:8080/"
        },
        "id": "KJZnvLjlm2Jk",
        "outputId": "d3c1c27d-6fff-46b1-89d0-7ad5d6489854"
      },
      "outputs": [
        {
          "name": "stdout",
          "output_type": "stream",
          "text": [
            "['leon', 'cocodrilo', 'puma', 'elefante']\n",
            "[2, 34, 456, 232, 65]\n",
            "[True, True, False, True]\n"
          ]
        }
      ],
      "source": [
        "# lista de texto\n",
        "lista_texto = [\"leon\",\"cocodrilo\",\"puma\",\"elefante\"]\n",
        "print(lista_texto)\n",
        "\n",
        "# creando lista de numeros\n",
        "lista_numeros = [2,34,456,232,65]\n",
        "print(lista_numeros)\n",
        "\n",
        "# creando lista de bolear\n",
        "lista_bolear = [True,True,False,True]\n",
        "print(lista_bolear)"
      ]
    },
    {
      "cell_type": "code",
      "execution_count": 37,
      "metadata": {
        "colab": {
          "base_uri": "https://localhost:8080/"
        },
        "id": "SoR_-gHpoZC5",
        "outputId": "7fd442c9-6302-41a1-b6d0-19163808678d"
      },
      "outputs": [
        {
          "name": "stdout",
          "output_type": "stream",
          "text": [
            "#####lista_texto#####\n",
            "4\n",
            "['leon', 'cocodrilo', 'puma', 'elefante']\n",
            "leon\n",
            "#####lista_numeros#####\n",
            "5\n",
            "[2, 34, 456, 232, 65]\n",
            "34\n",
            "#####lista_bolear#####\n",
            "4\n",
            "[True, True, False, True]\n",
            "True\n",
            "#####lista_dentro_de_una_lista#####\n",
            "[[1, 213, 23, 213, 1], ['hola', 'mundo']]\n",
            "#####lista_vacia.appen#####\n",
            "<built-in method append of list object at 0x7fbde7aca870>\n"
          ]
        }
      ],
      "source": [
        "# lista de texto\n",
        "print(\"#####lista_texto#####\")\n",
        "lista_texto = [\"leon\",\"cocodrilo\",\"puma\",\"elefante\"]\n",
        "print(len(lista_texto))\n",
        "print(lista_texto)\n",
        "print(lista_texto[0])\n",
        "\n",
        "# creando lista de numeros\n",
        "print(\"#####lista_numeros#####\")\n",
        "lista_numeros = [2,34,456,232,65]\n",
        "print(len(lista_numeros))\n",
        "print(lista_numeros)\n",
        "print(lista_numeros[1])\n",
        "\n",
        "\n",
        "# creando lista de bolear\n",
        "print(\"#####lista_bolear#####\")\n",
        "lista_bolear = [True,True,False,True]\n",
        "print(len(lista_bolear))\n",
        "print(lista_bolear)\n",
        "print(lista_bolear[3])\n",
        "\n",
        "# guarda una lista dentro de una lista\n",
        "print(\"#####lista_dentro_de_una_lista#####\")\n",
        "lista_dentro_de_una_lista = [[1,213,23,213,1],[\"hola\",\"mundo\"]]\n",
        "print(lista_dentro_de_una_lista)\n",
        "\n",
        "# Agregar datos a lista vacia\n",
        "print(\"#####lista_vacia.appen#####\")\n",
        "lista_vacia.append(\"no me gusta el chocolate\")\n",
        "lista_vacia.append(\"salta que hace frio\")\n",
        "lista_vacia.extend(lista_texto)\n",
        "print(lista_vacia.append)"
      ]
    }
  ],
  "metadata": {
    "colab": {
      "name": "Untitled0.ipynb",
      "provenance": []
    },
    "kernelspec": {
      "display_name": "Python 3",
      "name": "python3"
    },
    "language_info": {
      "name": "python"
    }
  },
  "nbformat": 4,
  "nbformat_minor": 0
}
